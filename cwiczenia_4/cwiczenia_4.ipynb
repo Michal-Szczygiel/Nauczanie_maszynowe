{
 "cells": [
  {
   "cell_type": "markdown",
   "id": "fb233a8c-4b12-489d-b592-2248b8d02878",
   "metadata": {},
   "source": [
    "## Zadanie 1"
   ]
  },
  {
   "cell_type": "markdown",
   "id": "fbbb3a66-858d-4041-9eb9-7ab4cd813a08",
   "metadata": {},
   "source": [
    "Zakładam istnienie 2 klas: $\\{A, B\\}$ \\\n",
    "Rozdział tych klas w aktualnym obszarze przebiega ze stosunkami: \\\n",
    "$A: x$ \\\n",
    "$B: 1 - x$ \\\n",
    "$x \\in [0, 1]$\n",
    "\n",
    "W związku z tym współczynnik Giniego: $I = 1 - \\left( x^2 + (1 - x)^2 \\right) = -2x^2 + 2x$\n",
    "\n",
    "Wsp. Giniego osiąga minima ($I = 0$) dla $x = 0$ lub $x = 1$ (wtedy w aktualnym obszarze występuje tylko jedna klasa) \\\n",
    "Wsp. Giniego osiąga maksimum ($I = 0.5$) dla $x = 0.5$ (tutaj obszar zawiera klasy w stosunku $0.5$) \\\n",
    "\\\n",
    "Można to rozumowanie uogólnić na $n$ klas i wtedy:\n",
    "- $I = 0$ jeśli w aktualnym obszarze występuje tylko jedna z tych klas - to oznacza dobry rozdział/klasyfikację\n",
    "- $I = max = 1 - n \\left( \\frac{1}{n} \\right)^2$ jeśli w danym obszarze stosunki występowania klas są równe - tutaj nie ma żadnego rozdziału, klasy wciąż są wymieszane"
   ]
  },
  {
   "cell_type": "code",
   "execution_count": 10,
   "id": "59740030-6faa-4c64-91f3-a2f205c3758f",
   "metadata": {},
   "outputs": [
    {
     "data": {
      "image/png": "[encoded data removed]",
      "text/plain": [
       "<Figure size 640x480 with 1 Axes>"
      ]
     },
     "metadata": {},
     "output_type": "display_data"
    }
   ],
   "source": [
    "import numpy as np\n",
    "import matplotlib.pyplot as plt\n",
    "\n",
    "x = np.linspace(0.0, 1.0, 200)\n",
    "fx = -2 * x ** 2 + 2 * x\n",
    "\n",
    "plt.plot(x, fx, color=\"red\")\n",
    "plt.xlabel(\"x\")\n",
    "plt.ylabel(\"I\")\n",
    "plt.grid()\n",
    "plt.show()"
   ]
  },
  {
   "cell_type": "markdown",
   "id": "84ad4746-1ef9-46da-ad1d-e299ccc9ed8c",
   "metadata": {},
   "source": [
    "## Zadanie 2"
   ]
  },
  {
   "cell_type": "code",
   "execution_count": 2,
   "id": "ba20422f-d6e2-4e30-b319-63e58cb7112e",
   "metadata": {},
   "outputs": [
    {
     "name": "stdout",
     "output_type": "stream",
     "text": [
      "1.5799176782552726\n"
     ]
    }
   ],
   "source": [
    "from math import log2\n",
    "\n",
    "total_samples = 105\n",
    "\n",
    "ratio_1 = 34 / total_samples\n",
    "ratio_2 = 32 / total_samples\n",
    "ratio_3 = 39 / total_samples\n",
    "\n",
    "entropy = 0.0\n",
    "entropy += ratio_1 * log2(ratio_1)\n",
    "entropy += ratio_2 * log2(ratio_2)\n",
    "entropy += ratio_3 * log2(ratio_3)\n",
    "\n",
    "print(-entropy)"
   ]
  },
  {
   "cell_type": "markdown",
   "id": "e43e4369-fbad-4a4a-b3c4-eed1e8306443",
   "metadata": {},
   "source": [
    "## Zadanie 3"
   ]
  },
  {
   "cell_type": "code",
   "execution_count": 11,
   "id": "28058225-548b-4df9-8536-23dd65b6510a",
   "metadata": {},
   "outputs": [
    {
     "name": "stdout",
     "output_type": "stream",
     "text": [
      "0.6643083900226757\n"
     ]
    }
   ],
   "source": [
    "total_samples = 105\n",
    "\n",
    "ratio_1 = 34 / total_samples\n",
    "ratio_2 = 32 / total_samples\n",
    "ratio_3 = 39 / total_samples\n",
    "\n",
    "gini = 1.0\n",
    "gini -= ratio_1 ** 2\n",
    "gini -= ratio_2 ** 2\n",
    "gini -= ratio_3 ** 2\n",
    "\n",
    "print(gini)"
   ]
  },
  {
   "cell_type": "markdown",
   "id": "3dc60775-4043-430a-9798-114b25391276",
   "metadata": {},
   "source": [
    "## Zadanie 4"
   ]
  },
  {
   "cell_type": "markdown",
   "id": "bb313869-9a36-4430-bfa7-eb4810c7e839",
   "metadata": {},
   "source": [
    "## Wstęp: o drzewach decyzyjnych...\n",
    "\n",
    "Drzewo decyzyjne jest, jak sama nazwa wskazuje, strukturą o budowie drzewiastej. Reprezentuje podziały zbioru obserwacji na podklasy\n",
    "według określonych parametrów. Za każdym takim podziałem stoi prosta decyzja: **jeśli (warunek) to: klasa_n wpp: klasa_m**. Koncept ten nie jest nowy, miał swoje początki w latach 70 a podobnych konstrukcji używał Linneusz już w latach 30 XVIII w. \\\n",
    "Drzewa decyzyjne są bardzo skuteczną metodą ale nie są pozbawione wad - są dość wrażliwe na specyfikę danych. Już niewielkie zmiany w zbiorze uczącym mogą doprowadzić do rozwinięcia zupełnie innego drzewa.\n",
    "\n",
    "## Jak udoskonalić drzewa decyzyjne?\n",
    "### Agregacja bootstrapowa (bagging):\n",
    "\n",
    "- metoda pojawiła się w 1996 (Breiman),\n",
    "- do predykcji wykorzystywane jest wiele drzew decyzyjnych,\n",
    "- dane do uczenia poszczególnych drzew decyzyjnych są losowane ze zwracaniem z oryginalnego zbioru danych,\n",
    "- zbiorem walidacyjnym jest część zbioru danych nie wybrana do procesu uczenia,\n",
    "- wynik predykcji określany jest na podstawie głosowania - zwracana jest ta odpowiedź którą dało najwięcej drzew składowych\n",
    "- wada: takie modele są ciężkie pod względem obliczeniowym i pamięciowym,\n",
    "- wada: podobna struktura poszczególnych klasyfikatorów nie pozwala na uogólnianie wyników na dane spoza zbioru uczącego\n",
    "\n",
    "### Lasy losowe:\n",
    "\n",
    "- metoda powstała w 2001 (Breiman),\n",
    "- algorytm bardzo podobny do agregacji bootstrapowej (losowanie danych, tworzenie zbiorów walidacyjnych),\n",
    "- do poszczególnych drzew wykorzystywana jest tylko część dostępnych predykatorów,\n",
    "- dla każdego podzbioru losowane są zmienne objaśniające,\n",
    "- wynik predykcji wybierany jest na zasadzie głosowania,\n",
    "- algorytm jest stabilny,\n",
    "- wada: ciężar obliczeń\n",
    "\n",
    "### ADABOOST:\n",
    "\n",
    "- polega na łączeniu mniejszych klasyfikatorów w zespoły (metaklasyfikatory) - tymi klasyfikatorami mogą być drzewa decyzyjne,\n",
    "- zespół ma dużą siłę predykcji, pomimo tego, że poszczególne klasyfikatory wchodzące w jego skład są raczej słabe,\n",
    "- w tym algorytmie przepływ danych jest sekwencyjny a nie równoległy jak w lasach losowych,\n",
    "- każdy kolejny zespół stara się poprawnie sklasyfikować to co zostało źle sklasyfikowane przez poprzednie zespoły,\n",
    "- wada: taki model łatwo jest przetrenować\n",
    "\n",
    "### XGBOOST:\n",
    "\n",
    "- zaproponowany w 2016 przez Tiangi Chen,\n",
    "- na ostateczną predykcję mają wpływ wszystkie drzewa decyzyje wchodzące w skład modelu,\n",
    "- tutaj również wykorzystywana jest strategia przyrostowa,\n",
    "- stosuje się tu regularyzację w postaci kary za ilość liści w drzewie decyzyjnym,\n",
    "- algorytm składa się z dwóch części: pierwsza odpowiada za minimalizację błędu, druga (regularyzacja) zapobiega przetrenowaniu"
   ]
  },
  {
   "cell_type": "markdown",
   "id": "2b060e24-1552-446d-b0f1-56363d5aec39",
   "metadata": {},
   "source": [
    "## Zadanie 5"
   ]
  },
  {
   "cell_type": "code",
   "execution_count": 106,
   "id": "076802e5-01dd-45ad-9a8e-00d015a4b939",
   "metadata": {},
   "outputs": [
    {
     "name": "stdout",
     "output_type": "stream",
     "text": [
      "63.33%\n"
     ]
    }
   ],
   "source": [
    "to_mean = []\n",
    "\n",
    "n = 10000\n",
    "\n",
    "# Zbiór początkowy 200 elementowy\n",
    "samples = list(range(200))\n",
    "\n",
    "for _ in range(n):\n",
    "    choices = []\n",
    "\n",
    "    # Losuję zbiór 200 elementowy ze zbioru pierwotnego\n",
    "    for _ in range(200):\n",
    "        choices.append(random.choice(samples))\n",
    "    \n",
    "    # Sprawdzam procent pokrycia pomiędzy zbiorem wylosowanym a pierwotnym\n",
    "    to_mean.append(len(set(choices)) / len(samples))\n",
    "    \n",
    "# Liczę średni procent pokrycia\n",
    "print(f\"{round(sum(to_mean) * 100 / len(to_mean), 2)}%\")"
   ]
  },
  {
   "cell_type": "markdown",
   "id": "6f52db8a-8fe5-4da0-ab37-b6f68d9b9d58",
   "metadata": {},
   "source": [
    "## Zadanie 6"
   ]
  },
  {
   "cell_type": "code",
   "execution_count": 1,
   "id": "f626fa07-6cbd-497b-b837-edf00cb7030d",
   "metadata": {},
   "outputs": [],
   "source": [
    "from nltk.tokenize import word_tokenize\n",
    "from nltk.corpus import stopwords\n",
    "from nltk.probability import FreqDist\n",
    "import random\n",
    "import numpy as np\n",
    "from sklearn.ensemble import RandomForestClassifier\n",
    "from sklearn import metrics\n",
    "from sklearn.linear_model import LogisticRegression\n",
    "\n",
    "\n",
    "def flatten(buffer):\n",
    "    result = []\n",
    "    \n",
    "    for element in buffer:\n",
    "        result += element\n",
    "        \n",
    "    return result\n",
    "\n",
    "\n",
    "def has_digit(token):\n",
    "    digits = \"0123456789\"\n",
    "    \n",
    "    for character in token:\n",
    "        if character in digits:\n",
    "            return True\n",
    "    \n",
    "    return False\n",
    "\n",
    "\n",
    "stopwords = set(stopwords.words('english'))\n",
    "\n",
    "with open(\"real.txt\", \"r\") as input_file:\n",
    "    real = input_file.read().split(\"\\n\")\n",
    "\n",
    "with open(\"fake.txt\", \"r\") as input_file:\n",
    "    fake = input_file.read().split(\"\\n\")\n",
    "\n",
    "\n",
    "# Tokenizacja nagłówków, stopwords i tokeny zawierające cyfry są odrzucane\n",
    "real_tokenized = []\n",
    "\n",
    "for sentence in real:\n",
    "    real_tokenized.append([word for word in word_tokenize(sentence) if word not in stopwords and not has_digit(word)])\n",
    "    \n",
    "fake_tokenized = []\n",
    "\n",
    "for sentence in fake:\n",
    "    fake_tokenized.append([word for word in word_tokenize(sentence) if word not in stopwords and not has_digit(word)])\n",
    "\n",
    "\n",
    "all_words_real = flatten(real_tokenized)\n",
    "all_words_fake = flatten(fake_tokenized)\n",
    "all_words = all_words_real + all_words_fake"
   ]
  },
  {
   "cell_type": "markdown",
   "id": "485ca6e1-1594-4ae8-9be3-5559b6a210f5",
   "metadata": {},
   "source": [
    "### Najczęściej pojawiające się słowa w prawdziwych nagłówkach:"
   ]
  },
  {
   "cell_type": "code",
   "execution_count": 2,
   "id": "38fc4272-1d60-4e20-96a8-8862e7a5d66f",
   "metadata": {},
   "outputs": [
    {
     "data": {
      "image/png": "[encoded data removed]",
      "text/plain": [
       "<Figure size 640x480 with 1 Axes>"
      ]
     },
     "metadata": {},
     "output_type": "display_data"
    },
    {
     "data": {
      "text/plain": [
       "<AxesSubplot: xlabel='Samples', ylabel='Counts'>"
      ]
     },
     "execution_count": 2,
     "metadata": {},
     "output_type": "execute_result"
    }
   ],
   "source": [
    "real_dist = FreqDist(all_words_real)\n",
    "real_dist.plot(16)"
   ]
  },
  {
   "cell_type": "markdown",
   "id": "338b03fc-5af3-464c-b138-c8660301659a",
   "metadata": {},
   "source": [
    "### Najczęściej pojawiające się słowa w fałszywych nagłówkach:"
   ]
  },
  {
   "cell_type": "code",
   "execution_count": 3,
   "id": "4da9f9c8-67fb-46e7-b6fd-4f9dea7fb77f",
   "metadata": {},
   "outputs": [
    {
     "data": {
      "image/png": "[encoded data removed]",
      "text/plain": [
       "<Figure size 640x480 with 1 Axes>"
      ]
     },
     "metadata": {},
     "output_type": "display_data"
    },
    {
     "data": {
      "text/plain": [
       "<AxesSubplot: xlabel='Samples', ylabel='Counts'>"
      ]
     },
     "execution_count": 3,
     "metadata": {},
     "output_type": "execute_result"
    }
   ],
   "source": [
    "fake_dist = FreqDist(all_words_fake)\n",
    "fake_dist.plot(16)"
   ]
  },
  {
   "cell_type": "markdown",
   "id": "bba2baf0-b0c5-4a2e-8646-265708c56f07",
   "metadata": {},
   "source": [
    "### Częstotliwość występowania wszystkich słów (z obu typów nagłówków):"
   ]
  },
  {
   "cell_type": "code",
   "execution_count": 4,
   "id": "39dd72cd-1802-4c19-a1de-b7ad03b4b31a",
   "metadata": {},
   "outputs": [
    {
     "name": "stdout",
     "output_type": "stream",
     "text": [
      "donald : 1057\n",
      "trump : 3072\n",
      "remember : 4\n",
      "year : 16\n",
      "since : 11\n",
      "elected : 21\n",
      "defends : 23\n",
      "son : 7\n",
      "emails : 15\n",
      "moscow : 5\n",
      "hits : 13\n",
      "back : 34\n",
      "strategist : 6\n",
      "says : 225\n",
      "media : 54\n",
      "wont : 20\n",
      "easily : 1\n",
      "give : 5\n",
      "america : 74\n",
      "anthony : 9\n",
      "scaramucci : 10\n",
      "trumps : 223\n",
      "new : 106\n",
      "comms : 2\n",
      "director : 17\n",
      "mobile : 1\n",
      "phone : 13\n",
      "use : 6\n",
      "worries : 1\n",
      "security : 22\n",
      "experts : 8\n",
      "us : 269\n"
     ]
    }
   ],
   "source": [
    "all_words_dist = FreqDist(all_words)\n",
    "\n",
    "max_lines = 32      # Ograniczenie na ilość linii\n",
    "\n",
    "for index, (word, freq) in enumerate(all_words_dist.items()):\n",
    "    if index == max_lines:\n",
    "        break\n",
    "        \n",
    "    print(f\"{word} : {freq}\")"
   ]
  },
  {
   "cell_type": "code",
   "execution_count": 5,
   "id": "515bdeaf-22be-40e0-904b-85e42eeb8865",
   "metadata": {},
   "outputs": [
    {
     "name": "stdout",
     "output_type": "stream",
     "text": [
      "Unikatowe słowa: 5616\n"
     ]
    }
   ],
   "source": [
    "print(f\"Unikatowe słowa: {len(set(all_words))}\")\n",
    "\n",
    "all_words_dist = FreqDist(all_words)\n",
    "\n",
    "# Wybieram 700 najczęściej powtarzających się słów jako słowa reprezentatywne\n",
    "repr_words = [word[0] for word in all_words_dist.most_common(700)]"
   ]
  },
  {
   "cell_type": "code",
   "execution_count": 6,
   "id": "87c0ace9-1aea-47fb-86be-85dddd2d8d54",
   "metadata": {},
   "outputs": [],
   "source": [
    "def representation(sentence):\n",
    "    sent_repr = []\n",
    "    \n",
    "    for word in repr_words:\n",
    "        if word in sentence:\n",
    "            sent_repr.append(1)\n",
    "        else:\n",
    "            sent_repr.append(0)\n",
    "            \n",
    "    return np.array(sent_repr)"
   ]
  },
  {
   "cell_type": "code",
   "execution_count": 7,
   "id": "a260b639-e3dd-4cd4-8d06-327ba855cbf7",
   "metadata": {},
   "outputs": [],
   "source": [
    "real_representation = [(representation(sentence), 1) for sentence in real_tokenized]\n",
    "fake_representation = [(representation(sentence), 0) for sentence in fake_tokenized]"
   ]
  },
  {
   "cell_type": "code",
   "execution_count": 8,
   "id": "bd89fb23-28b1-4766-b187-0d41903d35a2",
   "metadata": {},
   "outputs": [],
   "source": [
    "samples = real_representation + fake_representation\n",
    "random.shuffle(samples)\n",
    "\n",
    "samples_train = samples[:int(len(samples) * 0.7)]\n",
    "samples_test = samples[int(len(samples) * 0.7):int(len(samples) * 0.85)]\n",
    "samples_validation = samples[int(len(samples) * 0.85):]\n",
    "\n",
    "train_x = [sample[0] for sample in samples_train]\n",
    "train_y = [sample[1] for sample in samples_train]\n",
    "\n",
    "test_x = [sample[0] for sample in samples_test]\n",
    "test_y = [sample[1] for sample in samples_test]\n",
    "\n",
    "validation_x = [sample[0] for sample in samples_validation]\n",
    "validation_y = [sample[1] for sample in samples_validation]"
   ]
  },
  {
   "cell_type": "markdown",
   "id": "90f3059f-7425-4e99-a99f-fade6c9ce6c4",
   "metadata": {},
   "source": [
    "### Model: lasy losowe - przegląd hiperparametrów:"
   ]
  },
  {
   "cell_type": "code",
   "execution_count": 15,
   "id": "f6b50977-7dd8-4f12-be35-2e69eb3e3390",
   "metadata": {},
   "outputs": [
    {
     "name": "stdout",
     "output_type": "stream",
     "text": [
      "              precision    recall  f1-score   support\n",
      "\n",
      "           0       0.32      0.75      0.45        81\n",
      "           1       0.93      0.68      0.79       409\n",
      "\n",
      "    accuracy                           0.70       490\n",
      "   macro avg       0.63      0.72      0.62       490\n",
      "weighted avg       0.83      0.70      0.73       490\n",
      "\n"
     ]
    }
   ],
   "source": [
    "model = RandomForestClassifier(n_estimators=10, max_depth=10)\n",
    "model.fit(validation_x, validation_y)\n",
    "\n",
    "pred_y = model.predict(test_x)\n",
    "print(metrics.classification_report(pred_y, test_y))"
   ]
  },
  {
   "cell_type": "code",
   "execution_count": 16,
   "id": "25e156fe-a4c2-4846-9e9a-e3c12197658f",
   "metadata": {},
   "outputs": [
    {
     "name": "stdout",
     "output_type": "stream",
     "text": [
      "              precision    recall  f1-score   support\n",
      "\n",
      "           0       0.55      0.70      0.62       148\n",
      "           1       0.85      0.75      0.80       342\n",
      "\n",
      "    accuracy                           0.73       490\n",
      "   macro avg       0.70      0.73      0.71       490\n",
      "weighted avg       0.76      0.73      0.74       490\n",
      "\n"
     ]
    }
   ],
   "source": [
    "model = RandomForestClassifier(n_estimators=10, max_depth=50)\n",
    "model.fit(validation_x, validation_y)\n",
    "\n",
    "pred_y = model.predict(test_x)\n",
    "print(metrics.classification_report(pred_y, test_y))"
   ]
  },
  {
   "cell_type": "code",
   "execution_count": 17,
   "id": "7b316bda-ecf8-4a2f-8ce9-5dd7c6fe2312",
   "metadata": {},
   "outputs": [
    {
     "name": "stdout",
     "output_type": "stream",
     "text": [
      "              precision    recall  f1-score   support\n",
      "\n",
      "           0       0.60      0.70      0.65       162\n",
      "           1       0.84      0.77      0.80       328\n",
      "\n",
      "    accuracy                           0.75       490\n",
      "   macro avg       0.72      0.74      0.73       490\n",
      "weighted avg       0.76      0.75      0.75       490\n",
      "\n"
     ]
    }
   ],
   "source": [
    "model = RandomForestClassifier(n_estimators=10, max_depth=100)\n",
    "model.fit(validation_x, validation_y)\n",
    "\n",
    "pred_y = model.predict(test_x)\n",
    "print(metrics.classification_report(pred_y, test_y))"
   ]
  },
  {
   "cell_type": "code",
   "execution_count": 21,
   "id": "65b60bb5-05b5-45cf-8599-b63688616886",
   "metadata": {},
   "outputs": [
    {
     "name": "stdout",
     "output_type": "stream",
     "text": [
      "              precision    recall  f1-score   support\n",
      "\n",
      "           0       0.58      0.68      0.63       161\n",
      "           1       0.83      0.76      0.79       329\n",
      "\n",
      "    accuracy                           0.73       490\n",
      "   macro avg       0.70      0.72      0.71       490\n",
      "weighted avg       0.75      0.73      0.74       490\n",
      "\n"
     ]
    }
   ],
   "source": [
    "model = RandomForestClassifier(n_estimators=20, max_depth=100)\n",
    "model.fit(validation_x, validation_y)\n",
    "\n",
    "pred_y = model.predict(test_x)\n",
    "print(metrics.classification_report(pred_y, test_y))"
   ]
  },
  {
   "cell_type": "code",
   "execution_count": 22,
   "id": "eed0f58c-a991-4e78-9e39-e2889221768d",
   "metadata": {},
   "outputs": [
    {
     "name": "stdout",
     "output_type": "stream",
     "text": [
      "              precision    recall  f1-score   support\n",
      "\n",
      "           0       0.53      0.72      0.61       139\n",
      "           1       0.87      0.74      0.80       351\n",
      "\n",
      "    accuracy                           0.74       490\n",
      "   macro avg       0.70      0.73      0.70       490\n",
      "weighted avg       0.77      0.74      0.75       490\n",
      "\n"
     ]
    }
   ],
   "source": [
    "model = RandomForestClassifier(n_estimators=30, max_depth=100)\n",
    "model.fit(validation_x, validation_y)\n",
    "\n",
    "pred_y = model.predict(test_x)\n",
    "print(metrics.classification_report(pred_y, test_y))"
   ]
  },
  {
   "cell_type": "code",
   "execution_count": 33,
   "id": "1d8156ed-1e98-4965-a4f4-9f5da20d43d6",
   "metadata": {},
   "outputs": [
    {
     "name": "stdout",
     "output_type": "stream",
     "text": [
      "              precision    recall  f1-score   support\n",
      "\n",
      "           0       0.59      0.70      0.64       161\n",
      "           1       0.84      0.76      0.80       329\n",
      "\n",
      "    accuracy                           0.74       490\n",
      "   macro avg       0.71      0.73      0.72       490\n",
      "weighted avg       0.76      0.74      0.75       490\n",
      "\n"
     ]
    }
   ],
   "source": [
    "# max_depth=None -> tutaj dobranie głębokości jest automatyczne, węzły są rozwijane aż wszystkie liście będą\n",
    "# czyste, lub zostanie osiągnieta granica podziału\n",
    "model = RandomForestClassifier(n_estimators=50, max_depth=None)\n",
    "model.fit(validation_x, validation_y)\n",
    "\n",
    "pred_y = model.predict(test_x)\n",
    "print(metrics.classification_report(pred_y, test_y))"
   ]
  },
  {
   "cell_type": "markdown",
   "id": "e8175130-1b61-4abc-ae99-cff3dec6c365",
   "metadata": {},
   "source": [
    "### Trenowanie modelu (lasy losowe) o wybranych hiperparametrach:"
   ]
  },
  {
   "cell_type": "code",
   "execution_count": 35,
   "id": "30403983-6ce7-4413-9f11-44a7b2d43c80",
   "metadata": {},
   "outputs": [
    {
     "name": "stdout",
     "output_type": "stream",
     "text": [
      "              precision    recall  f1-score   support\n",
      "\n",
      "           0       0.76      0.77      0.76       188\n",
      "           1       0.85      0.85      0.85       302\n",
      "\n",
      "    accuracy                           0.82       490\n",
      "   macro avg       0.81      0.81      0.81       490\n",
      "weighted avg       0.82      0.82      0.82       490\n",
      "\n"
     ]
    }
   ],
   "source": [
    "model = RandomForestClassifier(n_estimators=50, max_depth=None)\n",
    "model.fit(train_x, train_y)\n",
    "\n",
    "pred_y = model.predict(test_x)\n",
    "print(metrics.classification_report(pred_y, test_y))"
   ]
  },
  {
   "cell_type": "markdown",
   "id": "7e3bddb8-9d0b-4c65-8eed-245b94312f9b",
   "metadata": {},
   "source": [
    "### Podsumowanie:\n",
    "\n",
    "Po dobraniu odpowiednich wartości hiperparametrów udało sie osiągnąć dokładność klasyfikacji na poziomie 80%.\n",
    "Można też zauważyć, że precyzja klasyfikacji nagłówków fałszywych jest niższa od precyzji klasyfikacji nagłówków prawdziwych."
   ]
  },
  {
   "cell_type": "markdown",
   "id": "3a901fc6-e35b-4b7b-9042-bcf25998247c",
   "metadata": {},
   "source": [
    "### Model: regresja logistyczna - przegląd hiperparametrów:"
   ]
  },
  {
   "cell_type": "code",
   "execution_count": 67,
   "id": "878c94af-78eb-411b-81cb-a2d5d2a14ad5",
   "metadata": {},
   "outputs": [
    {
     "name": "stdout",
     "output_type": "stream",
     "text": [
      "              precision    recall  f1-score   support\n",
      "\n",
      "           0       0.56      0.70      0.62       153\n",
      "           1       0.85      0.75      0.80       337\n",
      "\n",
      "    accuracy                           0.74       490\n",
      "   macro avg       0.70      0.73      0.71       490\n",
      "weighted avg       0.76      0.74      0.74       490\n",
      "\n"
     ]
    }
   ],
   "source": [
    "# tol=1e-8 -> to max liczba iteracji warunkuje kiedy prerwać trenowanie\n",
    "model_linear = LogisticRegression(solver=\"liblinear\", penalty=\"l1\", max_iter=100, tol=1e-8)\n",
    "model_linear.fit(validation_x, validation_y)\n",
    "\n",
    "pred_y = model_linear.predict(test_x)\n",
    "print(metrics.classification_report(pred_y, test_y))"
   ]
  },
  {
   "cell_type": "code",
   "execution_count": 68,
   "id": "65941387-4a24-49e1-9930-63657ac797b4",
   "metadata": {},
   "outputs": [
    {
     "name": "stdout",
     "output_type": "stream",
     "text": [
      "              precision    recall  f1-score   support\n",
      "\n",
      "           0       0.67      0.70      0.68       181\n",
      "           1       0.82      0.80      0.81       309\n",
      "\n",
      "    accuracy                           0.76       490\n",
      "   macro avg       0.74      0.75      0.75       490\n",
      "weighted avg       0.76      0.76      0.76       490\n",
      "\n"
     ]
    }
   ],
   "source": [
    "# tol=1e-8 -> to max liczba iteracji warunkuje kiedy prerwać trenowanie\n",
    "model_linear = LogisticRegression(solver=\"liblinear\", penalty=\"l2\", max_iter=100, tol=1e-8)\n",
    "model_linear.fit(validation_x, validation_y)\n",
    "\n",
    "pred_y = model_linear.predict(test_x)\n",
    "print(metrics.classification_report(pred_y, test_y))"
   ]
  },
  {
   "cell_type": "code",
   "execution_count": 82,
   "id": "9a4dc39c-31f7-452a-ac68-8e9efdf91c7c",
   "metadata": {},
   "outputs": [
    {
     "name": "stdout",
     "output_type": "stream",
     "text": [
      "              precision    recall  f1-score   support\n",
      "\n",
      "           0       0.63      0.61      0.62       198\n",
      "           1       0.74      0.76      0.75       292\n",
      "\n",
      "    accuracy                           0.70       490\n",
      "   macro avg       0.69      0.68      0.68       490\n",
      "weighted avg       0.70      0.70      0.70       490\n",
      "\n"
     ]
    },
    {
     "name": "stderr",
     "output_type": "stream",
     "text": [
      "C:\\Python\\lib\\site-packages\\sklearn\\utils\\optimize.py:210: ConvergenceWarning: newton-cg failed to converge. Increase the number of iterations.\n",
      "  warnings.warn(\n"
     ]
    }
   ],
   "source": [
    "# tol=1e-8 -> to max liczba iteracji warunkuje kiedy prerwać trenowanie\n",
    "model_linear = LogisticRegression(solver=\"newton-cg\", penalty=\"none\", max_iter=2000, tol=1e-8)\n",
    "model_linear.fit(validation_x, validation_y)\n",
    "\n",
    "pred_y = model_linear.predict(test_x)\n",
    "print(metrics.classification_report(pred_y, test_y))\n",
    "\n",
    "# Tutaj pomimo dużej liczby iteracji nie udało się uzyskać zbieżności"
   ]
  },
  {
   "cell_type": "code",
   "execution_count": 79,
   "id": "492eda82-8f2b-4720-8a37-27228213ca7d",
   "metadata": {},
   "outputs": [
    {
     "name": "stdout",
     "output_type": "stream",
     "text": [
      "              precision    recall  f1-score   support\n",
      "\n",
      "           0       0.66      0.70      0.68       178\n",
      "           1       0.82      0.79      0.81       312\n",
      "\n",
      "    accuracy                           0.76       490\n",
      "   macro avg       0.74      0.75      0.74       490\n",
      "weighted avg       0.76      0.76      0.76       490\n",
      "\n"
     ]
    }
   ],
   "source": [
    "# tol=1e-8 -> to max liczba iteracji warunkuje kiedy prerwać trenowanie\n",
    "model_linear = LogisticRegression(solver=\"newton-cg\", penalty=\"l2\", max_iter=100, tol=1e-8)\n",
    "model_linear.fit(validation_x, validation_y)\n",
    "\n",
    "pred_y = model_linear.predict(test_x)\n",
    "print(metrics.classification_report(pred_y, test_y))"
   ]
  },
  {
   "cell_type": "code",
   "execution_count": 56,
   "id": "2b2ea0e8-b3d1-42f6-9f8b-ca5e2559146c",
   "metadata": {},
   "outputs": [
    {
     "name": "stdout",
     "output_type": "stream",
     "text": [
      "              precision    recall  f1-score   support\n",
      "\n",
      "           0       0.66      0.70      0.68       178\n",
      "           1       0.82      0.79      0.81       312\n",
      "\n",
      "    accuracy                           0.76       490\n",
      "   macro avg       0.74      0.75      0.74       490\n",
      "weighted avg       0.76      0.76      0.76       490\n",
      "\n"
     ]
    }
   ],
   "source": [
    "# tol=1e-8 -> to max liczba iteracji warunkuje kiedy prerwać trenowanie\n",
    "model_linear = LogisticRegression(solver=\"lbfgs\", penalty=\"none\", max_iter=60, tol=1e-8)\n",
    "model_linear.fit(validation_x, validation_y)\n",
    "\n",
    "pred_y = model_linear.predict(test_x)\n",
    "print(metrics.classification_report(pred_y, test_y))"
   ]
  },
  {
   "cell_type": "code",
   "execution_count": 80,
   "id": "b18867cf-e325-457f-91cd-d86a2e32e74b",
   "metadata": {},
   "outputs": [
    {
     "name": "stdout",
     "output_type": "stream",
     "text": [
      "              precision    recall  f1-score   support\n",
      "\n",
      "           0       0.66      0.70      0.68       178\n",
      "           1       0.82      0.79      0.81       312\n",
      "\n",
      "    accuracy                           0.76       490\n",
      "   macro avg       0.74      0.75      0.74       490\n",
      "weighted avg       0.76      0.76      0.76       490\n",
      "\n"
     ]
    }
   ],
   "source": [
    "# tol=1e-8 -> to max liczba iteracji warunkuje kiedy prerwać trenowanie\n",
    "model_linear = LogisticRegression(solver=\"lbfgs\", penalty=\"l2\", max_iter=60, tol=1e-8)\n",
    "model_linear.fit(validation_x, validation_y)\n",
    "\n",
    "pred_y = model_linear.predict(test_x)\n",
    "print(metrics.classification_report(pred_y, test_y))"
   ]
  },
  {
   "cell_type": "code",
   "execution_count": 81,
   "id": "556dce97-b6ef-4bdf-b462-2dad03bf5cd4",
   "metadata": {},
   "outputs": [
    {
     "name": "stdout",
     "output_type": "stream",
     "text": [
      "              precision    recall  f1-score   support\n",
      "\n",
      "           0       0.66      0.70      0.68       178\n",
      "           1       0.82      0.79      0.81       312\n",
      "\n",
      "    accuracy                           0.76       490\n",
      "   macro avg       0.74      0.75      0.74       490\n",
      "weighted avg       0.76      0.76      0.76       490\n",
      "\n"
     ]
    }
   ],
   "source": [
    "# tol=1e-8 -> to max liczba iteracji warunkuje kiedy prerwać trenowanie\n",
    "model_linear = LogisticRegression(solver=\"lbfgs\", penalty=\"l2\", max_iter=100, tol=1e-8)\n",
    "model_linear.fit(validation_x, validation_y)\n",
    "\n",
    "pred_y = model_linear.predict(test_x)\n",
    "print(metrics.classification_report(pred_y, test_y))"
   ]
  },
  {
   "cell_type": "markdown",
   "id": "82bfb64f-e645-4b8c-8efb-800865668f87",
   "metadata": {},
   "source": [
    "### Trenowanie modelu (regresja logistyczna) o wybranych hiperparametrach:"
   ]
  },
  {
   "cell_type": "code",
   "execution_count": 84,
   "id": "51643bed-29c2-4aa9-9b9a-40012e673f17",
   "metadata": {},
   "outputs": [
    {
     "name": "stdout",
     "output_type": "stream",
     "text": [
      "              precision    recall  f1-score   support\n",
      "\n",
      "           0       0.68      0.77      0.72       169\n",
      "           1       0.87      0.81      0.84       321\n",
      "\n",
      "    accuracy                           0.80       490\n",
      "   macro avg       0.78      0.79      0.78       490\n",
      "weighted avg       0.81      0.80      0.80       490\n",
      "\n"
     ]
    }
   ],
   "source": [
    "model_linear = LogisticRegression(solver=\"lbfgs\", penalty=\"l2\", max_iter=100, tol=1e-8)\n",
    "model_linear.fit(train_x, train_y)\n",
    "\n",
    "pred_y = model_linear.predict(test_x)\n",
    "print(metrics.classification_report(pred_y, test_y))"
   ]
  },
  {
   "cell_type": "markdown",
   "id": "d44f8ed0-badd-49b0-9bb5-a85d2340d191",
   "metadata": {},
   "source": [
    "### Podsumowanie:\n",
    "\n",
    "W tym przypadku udało się uzyskać nieco mniejszą dokładość klasyfikacji niż w przypadku lasów losowych.\n",
    "Tutaj również precyzja klasyfikacji nagłówków fałszywych jest wyraźnie niższa niż precyzja klasyfikacji nagłówków prawdziwych."
   ]
  }
 ],
 "metadata": {
  "kernelspec": {
   "display_name": "Python 3 (ipykernel)",
   "language": "python",
   "name": "python3"
  },
  "language_info": {
   "codemirror_mode": {
    "name": "ipython",
    "version": 3
   },
   "file_extension": ".py",
   "mimetype": "text/x-python",
   "name": "python",
   "nbconvert_exporter": "python",
   "pygments_lexer": "ipython3",
   "version": "3.10.7"
  }
 },
 "nbformat": 4,
 "nbformat_minor": 5
}
