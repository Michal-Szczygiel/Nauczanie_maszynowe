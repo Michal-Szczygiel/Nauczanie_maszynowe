{
  "nbformat": 4,
  "nbformat_minor": 0,
  "metadata": {
    "colab": {
      "provenance": []
    },
    "kernelspec": {
      "name": "python3",
      "display_name": "Python 3"
    },
    "language_info": {
      "name": "python"
    },
    "widgets": {
      "application/vnd.jupyter.widget-state+json": {
        "51b03895d9044e0ebd94dfe8f3c03a44": {
          "model_module": "@jupyter-widgets/controls",
          "model_name": "HBoxModel",
          "model_module_version": "1.5.0",
          "state": {
            "_dom_classes": [],
            "_model_module": "@jupyter-widgets/controls",
            "_model_module_version": "1.5.0",
            "_model_name": "HBoxModel",
            "_view_count": null,
            "_view_module": "@jupyter-widgets/controls",
            "_view_module_version": "1.5.0",
            "_view_name": "HBoxView",
            "box_style": "",
            "children": [
              "IPY_MODEL_1da5c53831484648904ee937e8542389",
              "IPY_MODEL_77d051577d8041008a617dfc3c96f834",
              "IPY_MODEL_1372d4d0c4d44337a68133419b4e653f"
            ],
            "layout": "IPY_MODEL_51c0f218649747af89dfd1202b3e1f2a"
          }
        },
        "1da5c53831484648904ee937e8542389": {
          "model_module": "@jupyter-widgets/controls",
          "model_name": "HTMLModel",
          "model_module_version": "1.5.0",
          "state": {
            "_dom_classes": [],
            "_model_module": "@jupyter-widgets/controls",
            "_model_module_version": "1.5.0",
            "_model_name": "HTMLModel",
            "_view_count": null,
            "_view_module": "@jupyter-widgets/controls",
            "_view_module_version": "1.5.0",
            "_view_name": "HTMLView",
            "description": "",
            "description_tooltip": null,
            "layout": "IPY_MODEL_7b8fc4519bbc42adbeb832ebd4ec31a5",
            "placeholder": "​",
            "style": "IPY_MODEL_636ed85b132f46b7bcfabc9b156b1b11",
            "value": "100%"
          }
        },
        "77d051577d8041008a617dfc3c96f834": {
          "model_module": "@jupyter-widgets/controls",
          "model_name": "FloatProgressModel",
          "model_module_version": "1.5.0",
          "state": {
            "_dom_classes": [],
            "_model_module": "@jupyter-widgets/controls",
            "_model_module_version": "1.5.0",
            "_model_name": "FloatProgressModel",
            "_view_count": null,
            "_view_module": "@jupyter-widgets/controls",
            "_view_module_version": "1.5.0",
            "_view_name": "ProgressView",
            "bar_style": "success",
            "description": "",
            "description_tooltip": null,
            "layout": "IPY_MODEL_50640d25c68942a1a98ffa776434b09f",
            "max": 170498071,
            "min": 0,
            "orientation": "horizontal",
            "style": "IPY_MODEL_af1877bb909049a2bc9d9b2b905e21d7",
            "value": 170498071
          }
        },
        "1372d4d0c4d44337a68133419b4e653f": {
          "model_module": "@jupyter-widgets/controls",
          "model_name": "HTMLModel",
          "model_module_version": "1.5.0",
          "state": {
            "_dom_classes": [],
            "_model_module": "@jupyter-widgets/controls",
            "_model_module_version": "1.5.0",
            "_model_name": "HTMLModel",
            "_view_count": null,
            "_view_module": "@jupyter-widgets/controls",
            "_view_module_version": "1.5.0",
            "_view_name": "HTMLView",
            "description": "",
            "description_tooltip": null,
            "layout": "IPY_MODEL_e0efff4efa29427b9c8192144fd0eb92",
            "placeholder": "​",
            "style": "IPY_MODEL_7c72087fe1344376aaa3a8179e2c97e6",
            "value": " 170498071/170498071 [00:02&lt;00:00, 75763856.99it/s]"
          }
        },
        "51c0f218649747af89dfd1202b3e1f2a": {
          "model_module": "@jupyter-widgets/base",
          "model_name": "LayoutModel",
          "model_module_version": "1.2.0",
          "state": {
            "_model_module": "@jupyter-widgets/base",
            "_model_module_version": "1.2.0",
            "_model_name": "LayoutModel",
            "_view_count": null,
            "_view_module": "@jupyter-widgets/base",
            "_view_module_version": "1.2.0",
            "_view_name": "LayoutView",
            "align_content": null,
            "align_items": null,
            "align_self": null,
            "border": null,
            "bottom": null,
            "display": null,
            "flex": null,
            "flex_flow": null,
            "grid_area": null,
            "grid_auto_columns": null,
            "grid_auto_flow": null,
            "grid_auto_rows": null,
            "grid_column": null,
            "grid_gap": null,
            "grid_row": null,
            "grid_template_areas": null,
            "grid_template_columns": null,
            "grid_template_rows": null,
            "height": null,
            "justify_content": null,
            "justify_items": null,
            "left": null,
            "margin": null,
            "max_height": null,
            "max_width": null,
            "min_height": null,
            "min_width": null,
            "object_fit": null,
            "object_position": null,
            "order": null,
            "overflow": null,
            "overflow_x": null,
            "overflow_y": null,
            "padding": null,
            "right": null,
            "top": null,
            "visibility": null,
            "width": null
          }
        },
        "7b8fc4519bbc42adbeb832ebd4ec31a5": {
          "model_module": "@jupyter-widgets/base",
          "model_name": "LayoutModel",
          "model_module_version": "1.2.0",
          "state": {
            "_model_module": "@jupyter-widgets/base",
            "_model_module_version": "1.2.0",
            "_model_name": "LayoutModel",
            "_view_count": null,
            "_view_module": "@jupyter-widgets/base",
            "_view_module_version": "1.2.0",
            "_view_name": "LayoutView",
            "align_content": null,
            "align_items": null,
            "align_self": null,
            "border": null,
            "bottom": null,
            "display": null,
            "flex": null,
            "flex_flow": null,
            "grid_area": null,
            "grid_auto_columns": null,
            "grid_auto_flow": null,
            "grid_auto_rows": null,
            "grid_column": null,
            "grid_gap": null,
            "grid_row": null,
            "grid_template_areas": null,
            "grid_template_columns": null,
            "grid_template_rows": null,
            "height": null,
            "justify_content": null,
            "justify_items": null,
            "left": null,
            "margin": null,
            "max_height": null,
            "max_width": null,
            "min_height": null,
            "min_width": null,
            "object_fit": null,
            "object_position": null,
            "order": null,
            "overflow": null,
            "overflow_x": null,
            "overflow_y": null,
            "padding": null,
            "right": null,
            "top": null,
            "visibility": null,
            "width": null
          }
        },
        "636ed85b132f46b7bcfabc9b156b1b11": {
          "model_module": "@jupyter-widgets/controls",
          "model_name": "DescriptionStyleModel",
          "model_module_version": "1.5.0",
          "state": {
            "_model_module": "@jupyter-widgets/controls",
            "_model_module_version": "1.5.0",
            "_model_name": "DescriptionStyleModel",
            "_view_count": null,
            "_view_module": "@jupyter-widgets/base",
            "_view_module_version": "1.2.0",
            "_view_name": "StyleView",
            "description_width": ""
          }
        },
        "50640d25c68942a1a98ffa776434b09f": {
          "model_module": "@jupyter-widgets/base",
          "model_name": "LayoutModel",
          "model_module_version": "1.2.0",
          "state": {
            "_model_module": "@jupyter-widgets/base",
            "_model_module_version": "1.2.0",
            "_model_name": "LayoutModel",
            "_view_count": null,
            "_view_module": "@jupyter-widgets/base",
            "_view_module_version": "1.2.0",
            "_view_name": "LayoutView",
            "align_content": null,
            "align_items": null,
            "align_self": null,
            "border": null,
            "bottom": null,
            "display": null,
            "flex": null,
            "flex_flow": null,
            "grid_area": null,
            "grid_auto_columns": null,
            "grid_auto_flow": null,
            "grid_auto_rows": null,
            "grid_column": null,
            "grid_gap": null,
            "grid_row": null,
            "grid_template_areas": null,
            "grid_template_columns": null,
            "grid_template_rows": null,
            "height": null,
            "justify_content": null,
            "justify_items": null,
            "left": null,
            "margin": null,
            "max_height": null,
            "max_width": null,
            "min_height": null,
            "min_width": null,
            "object_fit": null,
            "object_position": null,
            "order": null,
            "overflow": null,
            "overflow_x": null,
            "overflow_y": null,
            "padding": null,
            "right": null,
            "top": null,
            "visibility": null,
            "width": null
          }
        },
        "af1877bb909049a2bc9d9b2b905e21d7": {
          "model_module": "@jupyter-widgets/controls",
          "model_name": "ProgressStyleModel",
          "model_module_version": "1.5.0",
          "state": {
            "_model_module": "@jupyter-widgets/controls",
            "_model_module_version": "1.5.0",
            "_model_name": "ProgressStyleModel",
            "_view_count": null,
            "_view_module": "@jupyter-widgets/base",
            "_view_module_version": "1.2.0",
            "_view_name": "StyleView",
            "bar_color": null,
            "description_width": ""
          }
        },
        "e0efff4efa29427b9c8192144fd0eb92": {
          "model_module": "@jupyter-widgets/base",
          "model_name": "LayoutModel",
          "model_module_version": "1.2.0",
          "state": {
            "_model_module": "@jupyter-widgets/base",
            "_model_module_version": "1.2.0",
            "_model_name": "LayoutModel",
            "_view_count": null,
            "_view_module": "@jupyter-widgets/base",
            "_view_module_version": "1.2.0",
            "_view_name": "LayoutView",
            "align_content": null,
            "align_items": null,
            "align_self": null,
            "border": null,
            "bottom": null,
            "display": null,
            "flex": null,
            "flex_flow": null,
            "grid_area": null,
            "grid_auto_columns": null,
            "grid_auto_flow": null,
            "grid_auto_rows": null,
            "grid_column": null,
            "grid_gap": null,
            "grid_row": null,
            "grid_template_areas": null,
            "grid_template_columns": null,
            "grid_template_rows": null,
            "height": null,
            "justify_content": null,
            "justify_items": null,
            "left": null,
            "margin": null,
            "max_height": null,
            "max_width": null,
            "min_height": null,
            "min_width": null,
            "object_fit": null,
            "object_position": null,
            "order": null,
            "overflow": null,
            "overflow_x": null,
            "overflow_y": null,
            "padding": null,
            "right": null,
            "top": null,
            "visibility": null,
            "width": null
          }
        },
        "7c72087fe1344376aaa3a8179e2c97e6": {
          "model_module": "@jupyter-widgets/controls",
          "model_name": "DescriptionStyleModel",
          "model_module_version": "1.5.0",
          "state": {
            "_model_module": "@jupyter-widgets/controls",
            "_model_module_version": "1.5.0",
            "_model_name": "DescriptionStyleModel",
            "_view_count": null,
            "_view_module": "@jupyter-widgets/base",
            "_view_module_version": "1.2.0",
            "_view_name": "StyleView",
            "description_width": ""
          }
        }
      }
    }
  },
  "cells": [
    {
      "cell_type": "markdown",
      "source": [
        "## Zadanie 1\n",
        "\n",
        "Funkcja MSE czyli błąd średniokwadratowy. Wyznaczenie wartości kosztu w tym przypadku odbywa się poprzez zliczenie kwadratów różnic od wartości oczekiwanych po całym obrazie. Oczywistą wadą jest tutaj to, że błąd od każdego piksela wchodzi z taką samą wagą. Potrzebna jest funkcja która będzie \"skupiała\" się na najważniejszych fragmentach obrazu i błędy z tego obszaru wliczała z odpowiednio większa wagą."
      ],
      "metadata": {
        "id": "1hnyb9k2kwOX"
      }
    },
    {
      "cell_type": "markdown",
      "source": [
        "## Zadanie 2\n",
        "\n",
        "Zarówno ReLU jak i LeakyReLU wprowadzają nieliniowość poprzez inne traktowanie argumentów mniejszych od zera (w stosunku do argumentów dodatnich). ReLU stosuje proste odcięcie: ReLU(x < 0) = 0. W przypadku LeakyReLU systuacja wgląda następująco: LeakyReLU(x < 0) = ax, gdzie a jest parametrem, którego wartość można modyfikować (zazwyczaj a < 1).\n",
        "\n",
        "W związku z tym, że LeakyReLU ma niezerowy gradient w całej dziedzinie, uczenie powinno być łatwiejsze - model nie utyka w miejscu."
      ],
      "metadata": {
        "id": "Smg3VZAqk1Bd"
      }
    },
    {
      "cell_type": "markdown",
      "source": [
        "## Zadanie 3\n",
        "\n",
        "Funkcje kosztu generatora i dyskryminatora zmieniają się z epoki na epokę bez widocznego trędu. Wynika to z tego, że te dwie części modelu walczą ze sobą, próbują się nawzajem \"przechytrzyć\". Jeśli jedna strona staje się lepsza (dajmy na to generator, wtedy jego funkcja kosztu maleje), to zaraz w niedługim czase druga strona (dyskryminator) ją dogania (i wartość funkji kosztu generatora znów rośnie).\n",
        "\n",
        "Oczywiście utrudnia to dobór hiperparametrów - trzeba patrzeć na to czy generowane rezultaty się poprawiają, bo funkcje kosztu nie odzwierciedlają zmian na przestrzeni epok."
      ],
      "metadata": {
        "id": "fbM0-HN1pTYK"
      }
    },
    {
      "cell_type": "markdown",
      "source": [
        "## Zadanie 4\n",
        "\n",
        "Sposoby przeciwadziałania mode collapse:\n",
        "- unrolling - polega na odświeżaniu funkcji straty generatora przy pomocy kilku kroków odświeżeń wag dyskryminatora. Dzięki temu generator widzi kilka kroków do przodu, co zachęca go do generowania bardziej zróżnicowanych wyników,\n",
        "- zastosowanie funkcji kosztu Wassersteina,\n",
        "- packing - tutaj dyskryminator dostaje kilka wyników z generatora na raz, dzięki temu może rozpoznać sytuację, gdzie wyniki są badzo podobne."
      ],
      "metadata": {
        "id": "7KK5R9H7t6-l"
      }
    },
    {
      "cell_type": "code",
      "source": [
        "from torchvision.datasets import CIFAR10\n",
        "from torchvision.transforms import ToTensor, Normalize, Compose\n",
        "from torch.utils.data import DataLoader\n",
        "import matplotlib.pyplot as plt\n",
        "import numpy as np\n",
        "\n",
        "batch_size = 15\n",
        "\n",
        "train_set = CIFAR10(root='./data', train=True, download=True, transform=ToTensor())\n",
        "train_loader = DataLoader(train_set, batch_size=batch_size, shuffle=True, num_workers=2)\n",
        "\n",
        "test_set = CIFAR10(root='./data', train=False, download=True, transform=ToTensor())\n",
        "test_loader = DataLoader(test_set, batch_size=batch_size, shuffle=False, num_workers=2)\n",
        "\n",
        "classes = train_set.classes"
      ],
      "metadata": {
        "id": "sNFmpl7FYQ3z",
        "colab": {
          "base_uri": "https://localhost:8080/",
          "height": 101,
          "referenced_widgets": [
            "51b03895d9044e0ebd94dfe8f3c03a44",
            "1da5c53831484648904ee937e8542389",
            "77d051577d8041008a617dfc3c96f834",
            "1372d4d0c4d44337a68133419b4e653f",
            "51c0f218649747af89dfd1202b3e1f2a",
            "7b8fc4519bbc42adbeb832ebd4ec31a5",
            "636ed85b132f46b7bcfabc9b156b1b11",
            "50640d25c68942a1a98ffa776434b09f",
            "af1877bb909049a2bc9d9b2b905e21d7",
            "e0efff4efa29427b9c8192144fd0eb92",
            "7c72087fe1344376aaa3a8179e2c97e6"
          ]
        },
        "outputId": "34ec5135-ac0a-4af0-dbaa-c6acf7711367"
      },
      "execution_count": 1,
      "outputs": [
        {
          "output_type": "stream",
          "name": "stdout",
          "text": [
            "Downloading https://www.cs.toronto.edu/~kriz/cifar-10-python.tar.gz to ./data/cifar-10-python.tar.gz\n"
          ]
        },
        {
          "output_type": "display_data",
          "data": {
            "text/plain": [
              "  0%|          | 0/170498071 [00:00<?, ?it/s]"
            ],
            "application/vnd.jupyter.widget-view+json": {
              "version_major": 2,
              "version_minor": 0,
              "model_id": "51b03895d9044e0ebd94dfe8f3c03a44"
            }
          },
          "metadata": {}
        },
        {
          "output_type": "stream",
          "name": "stdout",
          "text": [
            "Extracting ./data/cifar-10-python.tar.gz to ./data\n",
            "Files already downloaded and verified\n"
          ]
        }
      ]
    },
    {
      "cell_type": "code",
      "source": [
        "import torch.nn as nn\n",
        "import torch.nn.functional as F\n",
        "import torch\n",
        "\n",
        "# Model na podstawie: https://pytorch.org/tutorials/beginner/blitz/cifar10_tutorial.html\n",
        "\n",
        "class Net(nn.Module):\n",
        "    def __init__(self):\n",
        "        super().__init__()\n",
        "        self.conv1 = nn.Conv2d(3, 6, 5)\n",
        "        self.pool = nn.MaxPool2d(2, 2)\n",
        "        self.conv2 = nn.Conv2d(6, 16, 5)\n",
        "        self.fc1 = nn.Linear(16 * 5 * 5, 120)\n",
        "        self.fc2 = nn.Linear(120, 84)\n",
        "        self.fc3 = nn.Linear(84, 10)\n",
        "\n",
        "    def forward(self, x):\n",
        "        x = self.pool(F.relu(self.conv1(x)))\n",
        "        x = self.pool(F.relu(self.conv2(x)))\n",
        "        x = torch.flatten(x, 1)\n",
        "        x = F.relu(self.fc1(x))\n",
        "        x = F.relu(self.fc2(x))\n",
        "        x = self.fc3(x)\n",
        "\n",
        "        return x"
      ],
      "metadata": {
        "id": "-gUPZ3ibYQmS"
      },
      "execution_count": 7,
      "outputs": []
    },
    {
      "cell_type": "code",
      "source": [
        "import torch.optim as optim\n",
        "\n",
        "net = Net()\n",
        "criterion = nn.CrossEntropyLoss()\n",
        "optimizer = optim.SGD(net.parameters(), lr=0.001, momentum=0.9)"
      ],
      "metadata": {
        "id": "tGDw0EGcF5ZH"
      },
      "execution_count": 8,
      "outputs": []
    },
    {
      "cell_type": "code",
      "source": [
        "def get_accuracy():\n",
        "  hits = 0\n",
        "  miss = 0\n",
        "\n",
        "  for x, y in test_loader:\n",
        "    prediction = net(x)\n",
        "    pred_list = [int(pred.argmax()) for pred in prediction]\n",
        "  \n",
        "    for label, pred in zip(y, pred_list):\n",
        "      if label == pred:\n",
        "        hits += 1\n",
        "      else:\n",
        "        miss += 1\n",
        "\n",
        "    return hits / (hits + miss)"
      ],
      "metadata": {
        "id": "3soDGU9DPKxj"
      },
      "execution_count": 9,
      "outputs": []
    },
    {
      "cell_type": "code",
      "source": [
        "losses = []\n",
        "accuracy = []\n",
        "\n",
        "for epoch in range(20):\n",
        "    running_loss = 0.0\n",
        "    for i, data in enumerate(train_loader, 0):\n",
        "        inputs, labels = data\n",
        "        optimizer.zero_grad()\n",
        "        outputs = net(inputs)\n",
        "        loss = criterion(outputs, labels)\n",
        "        loss.backward()\n",
        "        optimizer.step()\n",
        "        running_loss += loss.item()\n",
        "        if i % 1000 == 999:\n",
        "            acc = get_accuracy()\n",
        "            print(f'[{epoch + 1}, {i + 1:5d}] loss: {running_loss / 1000:.3f}, accuracy: {round(acc, 3)}')\n",
        "            losses.append(running_loss / 1000)\n",
        "            accuracy.append(acc)\n",
        "            running_loss = 0.0\n",
        "\n",
        "print('Finished Training')"
      ],
      "metadata": {
        "colab": {
          "base_uri": "https://localhost:8080/"
        },
        "id": "0kjV_sz7IARg",
        "outputId": "71741135-2b6c-402e-dbd1-ef23a51851a7"
      },
      "execution_count": 10,
      "outputs": [
        {
          "output_type": "stream",
          "name": "stderr",
          "text": [
            "Exception ignored in: Exception ignored in: <function _MultiProcessingDataLoaderIter.__del__ at 0x7f4149d3fa70><function _MultiProcessingDataLoaderIter.__del__ at 0x7f4149d3fa70>\n",
            "\n",
            "Traceback (most recent call last):\n",
            "Traceback (most recent call last):\n",
            "  File \"/usr/local/lib/python3.7/dist-packages/torch/utils/data/dataloader.py\", line 1510, in __del__\n",
            "    \n",
            "self._shutdown_workers()  File \"/usr/local/lib/python3.7/dist-packages/torch/utils/data/dataloader.py\", line 1510, in __del__\n",
            "  File \"/usr/local/lib/python3.7/dist-packages/torch/utils/data/dataloader.py\", line 1493, in _shutdown_workers\n",
            "        \n",
            "\n",
            "  File \"/usr/local/lib/python3.7/dist-packages/torch/utils/data/dataloader.py\", line 1493, in _shutdown_workers\n",
            "self._shutdown_workers()if w.is_alive():  File \"/usr/lib/python3.7/multiprocessing/process.py\", line 151, in is_alive\n",
            "if w.is_alive():        assert self._parent_pid == os.getpid(), 'can only test a child process'\n",
            "\n",
            "  File \"/usr/lib/python3.7/multiprocessing/process.py\", line 151, in is_alive\n",
            "AssertionError    assert self._parent_pid == os.getpid(), 'can only test a child process'\n",
            "AssertionError: can only test a child process\n",
            ": can only test a child process\n"
          ]
        },
        {
          "output_type": "stream",
          "name": "stdout",
          "text": [
            "[1,  1000] loss: 2.303, accuracy: 0.133\n",
            "[1,  2000] loss: 2.284, accuracy: 0.333\n",
            "[1,  3000] loss: 2.066, accuracy: 0.533\n",
            "[2,  1000] loss: 1.923, accuracy: 0.467\n",
            "[2,  2000] loss: 1.824, accuracy: 0.333\n",
            "[2,  3000] loss: 1.730, accuracy: 0.467\n",
            "[3,  1000] loss: 1.667, accuracy: 0.533\n",
            "[3,  2000] loss: 1.633, accuracy: 0.533\n",
            "[3,  3000] loss: 1.572, accuracy: 0.533\n",
            "[4,  1000] loss: 1.533, accuracy: 0.6\n",
            "[4,  2000] loss: 1.488, accuracy: 0.467\n",
            "[4,  3000] loss: 1.484, accuracy: 0.533\n",
            "[5,  1000] loss: 1.445, accuracy: 0.533\n",
            "[5,  2000] loss: 1.407, accuracy: 0.533\n",
            "[5,  3000] loss: 1.370, accuracy: 0.667\n",
            "[6,  1000] loss: 1.339, accuracy: 0.6\n",
            "[6,  2000] loss: 1.334, accuracy: 0.467\n",
            "[6,  3000] loss: 1.307, accuracy: 0.467\n",
            "[7,  1000] loss: 1.287, accuracy: 0.533\n",
            "[7,  2000] loss: 1.252, accuracy: 0.533\n",
            "[7,  3000] loss: 1.252, accuracy: 0.533\n",
            "[8,  1000] loss: 1.237, accuracy: 0.667\n",
            "[8,  2000] loss: 1.198, accuracy: 0.667\n",
            "[8,  3000] loss: 1.197, accuracy: 0.733\n",
            "[9,  1000] loss: 1.161, accuracy: 0.533\n",
            "[9,  2000] loss: 1.168, accuracy: 0.6\n",
            "[9,  3000] loss: 1.155, accuracy: 0.6\n",
            "[10,  1000] loss: 1.112, accuracy: 0.733\n",
            "[10,  2000] loss: 1.113, accuracy: 0.6\n",
            "[10,  3000] loss: 1.119, accuracy: 0.8\n",
            "[11,  1000] loss: 1.049, accuracy: 0.667\n",
            "[11,  2000] loss: 1.084, accuracy: 0.667\n",
            "[11,  3000] loss: 1.077, accuracy: 0.667\n",
            "[12,  1000] loss: 1.025, accuracy: 0.6\n",
            "[12,  2000] loss: 1.032, accuracy: 0.6\n",
            "[12,  3000] loss: 1.041, accuracy: 0.6\n",
            "[13,  1000] loss: 0.985, accuracy: 0.8\n",
            "[13,  2000] loss: 1.009, accuracy: 0.933\n",
            "[13,  3000] loss: 1.008, accuracy: 0.667\n",
            "[14,  1000] loss: 0.954, accuracy: 0.733\n",
            "[14,  2000] loss: 0.974, accuracy: 0.667\n",
            "[14,  3000] loss: 0.978, accuracy: 0.667\n",
            "[15,  1000] loss: 0.919, accuracy: 0.667\n",
            "[15,  2000] loss: 0.939, accuracy: 0.733\n",
            "[15,  3000] loss: 0.945, accuracy: 0.733\n",
            "[16,  1000] loss: 0.899, accuracy: 0.867\n",
            "[16,  2000] loss: 0.906, accuracy: 0.8\n",
            "[16,  3000] loss: 0.905, accuracy: 0.8\n",
            "[17,  1000] loss: 0.869, accuracy: 0.667\n",
            "[17,  2000] loss: 0.860, accuracy: 0.8\n",
            "[17,  3000] loss: 0.890, accuracy: 0.8\n",
            "[18,  1000] loss: 0.844, accuracy: 0.733\n",
            "[18,  2000] loss: 0.856, accuracy: 0.733\n",
            "[18,  3000] loss: 0.861, accuracy: 0.8\n",
            "[19,  1000] loss: 0.802, accuracy: 0.733\n",
            "[19,  2000] loss: 0.832, accuracy: 0.667\n",
            "[19,  3000] loss: 0.842, accuracy: 0.8\n",
            "[20,  1000] loss: 0.774, accuracy: 0.6\n",
            "[20,  2000] loss: 0.796, accuracy: 0.733\n",
            "[20,  3000] loss: 0.828, accuracy: 0.867\n",
            "Finished Training\n"
          ]
        }
      ]
    },
    {
      "cell_type": "code",
      "source": [
        "plt.plot(list(range(1, len(losses) + 1)), losses, color=\"red\")\n",
        "plt.grid()\n",
        "plt.show()\n",
        "\n",
        "plt.plot(list(range(1, len(accuracy) + 1)), accuracy, color=\"green\")\n",
        "plt.grid()\n",
        "plt.show()"
      ],
      "metadata": {
        "colab": {
          "base_uri": "https://localhost:8080/",
          "height": 513
        },
        "id": "ttsTKYbFPmDt",
        "outputId": "4285bf94-1580-4cb9-ec8a-55a39fcdfab7"
      },
      "execution_count": 11,
      "outputs": [
        {
          "output_type": "display_data",
          "data": {
            "text/plain": [
              "<Figure size 432x288 with 1 Axes>"
            ],
            "image/png": "[encoded data removed]"
          },
          "metadata": {
            "needs_background": "light"
          }
        },
        {
          "output_type": "display_data",
          "data": {
            "text/plain": [
              "<Figure size 432x288 with 1 Axes>"
            ],
            "image/png": "[encoded data removed]"
          },
          "metadata": {
            "needs_background": "light"
          }
        }
      ]
    }
  ]
}