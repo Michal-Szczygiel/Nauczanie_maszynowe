{
 "cells": [
  {
   "cell_type": "code",
   "execution_count": 1,
   "id": "480d70e0-7675-4934-bfbd-f471d7a5a9f1",
   "metadata": {},
   "outputs": [],
   "source": [
    "import numpy as np\n",
    "import matplotlib.pyplot as plt"
   ]
  },
  {
   "cell_type": "markdown",
   "id": "9c4c38a0-3b23-482c-b964-8e0d9b6c21e0",
   "metadata": {},
   "source": [
    "### Zadanie 1"
   ]
  },
  {
   "cell_type": "code",
   "execution_count": 98,
   "id": "6510d1ca-8659-4d8f-a882-3337451c7470",
   "metadata": {},
   "outputs": [],
   "source": [
    "class LinearReg:\n",
    "    def __init__(self, eta, c, w1 = 1.0, w2 = 1.0, w0 = 1.0):\n",
    "        self.eta = eta\n",
    "        self.c = c\n",
    "        self.w1 = w1\n",
    "        self.w2 = w2\n",
    "        self.w0 = w0\n",
    "        \n",
    "    def loss_function(self, X, Y, regularization):\n",
    "        sum_dif = 0.0\n",
    "\n",
    "        for inputs, output in zip(X, Y):\n",
    "            sum_dif += (self.w1 * inputs[0] + self.w2 * inputs[1] + self.w0 - output) ** 2\n",
    "\n",
    "        if regularization == \"L1\":\n",
    "            return sum_dif / (2 * len(X)) + (1 / self.c) * (abs(self.w1) + abs(self.w2) + abs(self.w0))\n",
    "        elif regularization == \"L2\":\n",
    "            return sum_dif / (2 * len(X)) + (1 / self.c) * (self.w1 ** 2 + self.w2 ** 2 + self.w0 ** 2)\n",
    "        else:\n",
    "            raise Exception(\"Podano niepoprawną deskrypcję regularyzacji!\")\n",
    "        \n",
    "    def update_weights(self, X, Y, regularization):\n",
    "        d_w1 = 0.0\n",
    "        d_w2 = 0.0\n",
    "        d_w0 = 0.0\n",
    "\n",
    "        for inputs, output in zip(X, Y):\n",
    "            d_w1 += 2 * self.w1 * inputs[0] ** 2 + 2 * self.w2 * inputs[0] * inputs[1] + 2 * self.w0 * inputs[0] - 2 * inputs[0] * output\n",
    "            d_w2 += 2 * self.w1 * inputs[0] * inputs[1] + 2 * self.w2 * inputs[1] ** 2 + 2 * self.w0 * inputs[1] - 2 * inputs[1] * output\n",
    "            d_w0 += 2 * self.w1 * inputs[1] + 2 * self.w2 * inputs[1] + 2 * self.w0 - 2 * output\n",
    "\n",
    "        d_w1 /= 2 * len(X)\n",
    "        d_w2 /= 2 * len(X)\n",
    "        d_w0 /= 2 * len(X)\n",
    "        \n",
    "        if regularization == \"L1\":\n",
    "            d_w1 += (1 / self.c) * np.sign(self.w1)\n",
    "            d_w2 += (1 / self.c) * np.sign(self.w2)\n",
    "            d_w0 += (1 / self.c) * np.sign(self.w0)\n",
    "        elif regularization == \"L2\":\n",
    "            d_w1 += 2 * (1 / self.c) * self.w1\n",
    "            d_w2 += 2 * (1 / self.c) * self.w2\n",
    "            d_w0 += 2 * (1 / self.c) * self.w0\n",
    "        else:\n",
    "            raise Exception(\"Podano niepoprawną deskrypcję regularyzacji!\")\n",
    "        \n",
    "        self.w1 -= self.eta * d_w1\n",
    "        self.w2 -= self.eta * d_w2\n",
    "        self.w0 -= self.eta * d_w0\n",
    "    \n",
    "    def train(self, X, Y, regularization, iterations):\n",
    "        for _ in range(iterations):\n",
    "            self.update_weights(X, Y, regularization)\n"
   ]
  },
  {
   "cell_type": "markdown",
   "id": "e67e353a-1a03-40f6-be88-d323e81a259d",
   "metadata": {},
   "source": [
    "### Testy:"
   ]
  },
  {
   "cell_type": "code",
   "execution_count": 112,
   "id": "9bb3d488-b286-4373-97d3-54744134aa7b",
   "metadata": {},
   "outputs": [],
   "source": [
    "X = np.random.uniform(-10.0, 10.0, (100, 2))\n",
    "Y = np.dot(X, [-2.5, 4.2]) + 6.3"
   ]
  },
  {
   "cell_type": "code",
   "execution_count": 116,
   "id": "d6bf1359-d8f7-41bd-9d75-312521d390cb",
   "metadata": {},
   "outputs": [
    {
     "name": "stdout",
     "output_type": "stream",
     "text": [
      "w1: -2.1772416358132487,\n",
      "w2: 3.9189326831753215,\n",
      "w0: -0.0025013258174131554,\n",
      "loss_f: 83.92109420652402\n"
     ]
    }
   ],
   "source": [
    "model_1 = LinearReg(0.001, 0.1)\n",
    "model_1.train(X, Y, \"L1\", 1000)\n",
    "\n",
    "print(f\"\"\"w1: {model_1.w1},\\nw2: {model_1.w2},\\nw0: {model_1.w0},\\nloss_f: {model_1.loss_function(X, Y, \"L1\")}\"\"\")"
   ]
  },
  {
   "cell_type": "code",
   "execution_count": 107,
   "id": "887ad6f4-4a8c-4919-99ee-d56dd9b19c14",
   "metadata": {},
   "outputs": [
    {
     "name": "stdout",
     "output_type": "stream",
     "text": [
      "w1: -1.704971586181556,\n",
      "w2: 2.622957692174877,\n",
      "w0: 0.47155003890316594,\n",
      "loss_f: 124.44766622989448\n"
     ]
    }
   ],
   "source": [
    "model_2 = LinearReg(0.001, 0.1)\n",
    "model_2.train(X, Y, \"L2\", 1000)\n",
    "\n",
    "print(f\"\"\"w1: {model_2.w1},\\nw2: {model_2.w2},\\nw0: {model_2.w0},\\nloss_f: {model_2.loss_function(X, Y, \"L1\")}\"\"\")"
   ]
  },
  {
   "cell_type": "markdown",
   "id": "f8090d80-8a29-4c86-9d24-25d2a33b480f",
   "metadata": {},
   "source": [
    "### Zadanie 2"
   ]
  },
  {
   "cell_type": "code",
   "execution_count": 119,
   "id": "dc336511-cab8-45f5-a474-04ae7562dadb",
   "metadata": {},
   "outputs": [],
   "source": [
    "# Generuję dane, x_1, x_2 należą do [-10, 10] x [-10, 10]\n",
    "X = np.random.uniform(-10.0, 10.0, (500, 2))\n",
    "\n",
    "# Y = 1.5 * x_1 + 6.5 * x_2 - 4.3 + N(0, 1)\n",
    "Y = np.dot(X, [1.5, 6.5]) - 4.3 + np.random.normal(0.0, 1.0, 500)"
   ]
  },
  {
   "cell_type": "code",
   "execution_count": 120,
   "id": "e9399140-f108-4381-a28a-fd26cbbad5ce",
   "metadata": {},
   "outputs": [],
   "source": [
    "# Podział danych na zbiór walidacyjny i treningowy\n",
    "x_valid = X[:100]\n",
    "y_valid = Y[:100]\n",
    "\n",
    "x_train = X[100:]\n",
    "y_train = Y[100:]\n",
    "\n",
    "# Funkcja pomocnicza: trenuje model przy zadanych hiperparametrach oraz wypisuje wartości wag i funkcji kosztu\n",
    "def train_and_show(X, Y, eta, reg_param):\n",
    "    model = LinearReg(eta, reg_param)\n",
    "    model.train(X, Y, \"L1\", 1500)\n",
    "    print(f\"\"\"eta: {eta}, reg_param: {reg_param}, w1: {model.w1}, w2: {model.w2}, w0: {model.w0}, loss_f: {model.loss_function(X, Y, \"L1\")}\"\"\")"
   ]
  },
  {
   "cell_type": "code",
   "execution_count": 121,
   "id": "be6840a8-cb63-47cd-ab50-cfad55ba25a4",
   "metadata": {},
   "outputs": [
    {
     "name": "stdout",
     "output_type": "stream",
     "text": [
      "eta: 0.05, reg_param: 10.0, w1: 1.4706397298939866, w2: 6.533692840582917, w0: -3.2080218484029346, loss_f: 1.9414311378608295\n",
      "eta: 0.05, reg_param: 1.0, w1: 1.4384246056018641, w2: 6.513528664943593, w0: -2.3281392173695616, loss_f: 12.316474791892183\n",
      "eta: 0.05, reg_param: 0.1, w1: 1.147185738266773, w2: 6.223270871309484, w0: -0.21024396610711865, loss_f: 87.16467873884554\n",
      "eta: 0.05, reg_param: 0.01, w1: 23.30084149054182, w2: -10.172065763133524, w0: -3.3100514437870956, loss_f: 16878.409875829253\n",
      "eta: 0.05, reg_param: 0.001, w1: 135.4499013735173, w2: 87.42224472180551, w0: 20.21928377175078, loss_f: 625694.0291842166\n",
      "eta: 0.01, reg_param: 10.0, w1: 1.470639724759107, w2: 6.533692855572719, w0: -3.2080206373393994, loss_f: 1.941432116796384\n",
      "eta: 0.01, reg_param: 1.0, w1: 1.4384246020680158, w2: 6.513528675259644, w0: -2.3281383839099843, loss_f: 12.316475450842129\n",
      "eta: 0.01, reg_param: 0.1, w1: 1.1431765901451314, w2: 6.233928089337262, w0: -0.007087015291142432, loss_f: 85.9583854143042\n",
      "eta: 0.01, reg_param: 0.01, w1: 1.1114700600750274, w2: 3.2862616683575467, w0: 0.6855355779761414, loss_f: 689.9414255765303\n",
      "eta: 0.01, reg_param: 0.001, w1: 7.209902733564956, w2: 11.049218211530121, w0: 0.22819865801118233, loss_f: 19313.673104603437\n",
      "eta: 0.005, reg_param: 10.0, w1: 1.4706301349655897, w2: 6.533720850210948, w0: -3.2057588805539217, loss_f: 1.9432629018659866\n",
      "eta: 0.005, reg_param: 1.0, w1: 1.438417970906692, w2: 6.5135480330239135, w0: -2.3265744217566167, loss_f: 12.317713168034414\n",
      "eta: 0.005, reg_param: 0.1, w1: 1.143120051024482, w2: 6.234123565191973, w0: 0.01726815415446483, loss_f: 86.16205527655025\n",
      "eta: 0.005, reg_param: 0.01, w1: -0.0848397138491579, w2: 3.2988604778557855, w0: -0.4494534427359135, loss_f: 587.4923433954858\n",
      "eta: 0.005, reg_param: 0.001, w1: 3.853066085959294, w2: -1.123465401174915, w0: 2.134212281272881, loss_f: 8201.40634426672\n",
      "eta: 0.001, reg_param: 10.0, w1: 1.466771849625093, w2: 6.544984002237993, w0: -2.295780679927222, loss_f: 3.092712763722135\n",
      "eta: 0.001, reg_param: 1.0, w1: 1.4357446135390348, w2: 6.521352129350983, w0: -1.6960619758471491, loss_f: 13.01491259317542\n",
      "eta: 0.001, reg_param: 0.1, w1: 1.1430724905602134, w2: 6.2342626430630546, w0: -0.001332528286585824, loss_f: 85.92485200015322\n",
      "eta: 0.001, reg_param: 0.01, w1: 0.011026600301370697, w2: 3.2830198377988267, w0: -0.08105633002087748, loss_f: 540.8664447475267\n",
      "eta: 0.001, reg_param: 0.001, w1: -0.5231357129755427, w2: 0.9032932500939731, w0: -0.4556226418270648, loss_f: 2434.144914749358\n",
      "eta: 0.0005, reg_param: 10.0, w1: 1.4624657411720567, w2: 6.557554443219106, w0: -1.280183290073659, loss_f: 5.3482136733311885\n",
      "eta: 0.0005, reg_param: 1.0, w1: 1.4327609436560378, w2: 6.530062092124633, w0: -0.9923622698341428, loss_f: 14.260001290659952\n",
      "eta: 0.0005, reg_param: 0.1, w1: 1.1430665712441936, w2: 6.234280400065781, w0: -0.0033681018236767493, loss_f: 85.93670970055318\n",
      "eta: 0.0005, reg_param: 0.01, w1: 0.06518872999966994, w2: 3.2815240186979935, w0: 0.03576191489897689, loss_f: 540.12724625366\n",
      "eta: 0.0005, reg_param: 0.001, w1: -0.13801950053604922, w2: -0.11320877290651843, w0: 0.24745611675529255, loss_f: 1229.4863589929948\n"
     ]
    }
   ],
   "source": [
    "# Wartości eta i reg_param (współczynnik uwzględnienia wartości wag przy liczeniu LF)\n",
    "etas = [0.05, 0.01, 0.005, 0.001, 0.0005]\n",
    "reg_params = [10.0, 1.0, 0.1, 0.01, 0.001]\n",
    "\n",
    "# Iloczyn kartezjański po wartościach eta i reg_param\n",
    "for eta, reg_param in [(e, r) for e in etas for r in reg_params]:\n",
    "    train_and_show(x_valid, y_valid, eta, reg_param)"
   ]
  },
  {
   "cell_type": "code",
   "execution_count": 122,
   "id": "3a050a5e-7166-4185-8c67-9171d2e6f7d6",
   "metadata": {},
   "outputs": [
    {
     "name": "stdout",
     "output_type": "stream",
     "text": [
      "eta: 0.005, reg_param: 10.0, w1: 1.4942176337555253, w2: 6.5101110842854295, w0: -3.4213648209061494, loss_f: 1.9801657569577185\n"
     ]
    }
   ],
   "source": [
    "# To samo co powyżej tylko na zbiorze treningowych i dla wybranych wartości eta i reg_param\n",
    "train_and_show(x_train, y_train, 0.005, 10.0)"
   ]
  },
  {
   "cell_type": "markdown",
   "id": "dcc5c826-97a5-4858-ba1c-4b6bf85907c2",
   "metadata": {},
   "source": [
    "### Zadanie 3"
   ]
  },
  {
   "cell_type": "code",
   "execution_count": 84,
   "id": "684029ff-1ac1-4595-b471-7965f36e7ef5",
   "metadata": {},
   "outputs": [
    {
     "name": "stdout",
     "output_type": "stream",
     "text": [
      "0.9719706839711546 0.02802931602884544\n"
     ]
    }
   ],
   "source": [
    "# Wagi modelu z zadania\n",
    "w1 = -0.39682866\n",
    "w2 = -0.82497163\n",
    "w0 = 0.11932619\n",
    "\n",
    "# Klasyfikowany punkt\n",
    "x1 = 3.0\n",
    "x2 = 3.0\n",
    "\n",
    "# P że klasa = 1\n",
    "p_1 = 1 / (1 + np.exp(-(w1 * x1 + w2 * x2 + w0)))\n",
    "\n",
    "# P że klasa = 0\n",
    "p_0 = 1 - p_1\n",
    "\n",
    "# Wyszło tak jak w zadaniu\n",
    "print(p_0, p_1)"
   ]
  },
  {
   "cell_type": "markdown",
   "id": "29bd28b6-0bbd-4c73-af4b-7825cb557a27",
   "metadata": {},
   "source": [
    "### Zadanie 4"
   ]
  },
  {
   "cell_type": "code",
   "execution_count": 87,
   "id": "47c80ee1-44f7-4394-b8d4-b1756531e02b",
   "metadata": {},
   "outputs": [
    {
     "name": "stdout",
     "output_type": "stream",
     "text": [
      "0.16470455808850257 0.5029713823568449 0.33232405955465244\n"
     ]
    }
   ],
   "source": [
    "# klasa 0:\n",
    "w0 = np.array([0.01577681, -0.05318977, 0.21160694, 0.14655186, -0.24476592, -0.00318551, -0.20914917, -0.26505038, -0.02765106, 0.26778537])\n",
    "w00 = 0.0294703\n",
    "\n",
    "# klasa 1:\n",
    "w1 = np.array([0.20327639, 0.0990516, -0.39851296, -0.1045002, 0.02344135, -0.06340171, 0.19494493, 0.54495946, -0.18417782, -0.2844254])\n",
    "w10 = -0.26754233\n",
    "\n",
    "# klasa 2:\n",
    "w2 = np.array([-0.2190532, -0.04586183, 0.18690602, -0.04205165, 0.22132456, 0.06658722, 0.01420424, -0.27990908, 0.21182888, 0.01664003])\n",
    "w20 = 0.23807203\n",
    "\n",
    "# obserwacje:\n",
    "row = np.array([1.89149379, -0.39847585, 1.63856893, 0.01647165, 1.51892395, -3.52651223, 1.80998823, 0.58810926, -0.02542177, -0.52835426])\n",
    "\n",
    "# obliczenia:\n",
    "p_0_raw = np.exp(np.sum(w0 * row) + w00)\n",
    "p_1_raw = np.exp(np.sum(w1 * row) + w10)\n",
    "p_2_raw = np.exp(np.sum(w2 * row) + w20)\n",
    "\n",
    "p_0 = p_0_raw / (p_0_raw + p_1_raw + p_2_raw)\n",
    "p_1 = p_1_raw / (p_0_raw + p_1_raw + p_2_raw)\n",
    "p_2 = p_2_raw / (p_0_raw + p_1_raw + p_2_raw)\n",
    "\n",
    "# Wyszło tak jak w zadaniu\n",
    "print(p_0, p_1, p_2)"
   ]
  },
  {
   "cell_type": "markdown",
   "id": "64e936ce-e63e-4166-9f11-82f86d4b56ea",
   "metadata": {},
   "source": [
    "### Zadanie 5"
   ]
  },
  {
   "cell_type": "markdown",
   "id": "9eea8cdc-2735-47ca-98e0-85d9f5830ce0",
   "metadata": {},
   "source": [
    "Zwiększając wartość c zmniejszamy wartość współczynnika a (c = 1 / a), co w konsekwencji przekłada się na mniejszą karę od wielkości wag.\n",
    "Na wykresie widać rozgałęzienie bo od pewnego c bardziej opłaca się (w kontekście wartości funkcji kosztu) dopasowywać wagi modelu tak aby ten \n",
    "model lepiej odwzorowywał dane (zmniejszać błąd) niż dbać o to aby wagi były małe (bliskie zera)."
   ]
  }
 ],
 "metadata": {
  "kernelspec": {
   "display_name": "Python 3 (ipykernel)",
   "language": "python",
   "name": "python3"
  },
  "language_info": {
   "codemirror_mode": {
    "name": "ipython",
    "version": 3
   },
   "file_extension": ".py",
   "mimetype": "text/x-python",
   "name": "python",
   "nbconvert_exporter": "python",
   "pygments_lexer": "ipython3",
   "version": "3.10.7"
  }
 },
 "nbformat": 4,
 "nbformat_minor": 5
}
