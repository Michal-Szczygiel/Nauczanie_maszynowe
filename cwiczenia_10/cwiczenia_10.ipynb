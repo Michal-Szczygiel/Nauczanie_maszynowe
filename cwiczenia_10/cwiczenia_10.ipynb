{
 "cells": [
  {
   "cell_type": "markdown",
   "id": "73c59198-cb99-4779-864b-ea3ffa50a85e",
   "metadata": {},
   "source": [
    "## Zadanie 1"
   ]
  },
  {
   "cell_type": "code",
   "execution_count": 15,
   "id": "5581c5cf-a736-41e1-8cc7-65df1f94c7dd",
   "metadata": {},
   "outputs": [
    {
     "name": "stdout",
     "output_type": "stream",
     "text": [
      "Prawdopodobieństwo zdarzenia: 5.13e-07\n"
     ]
    }
   ],
   "source": [
    "# P(B = T) = 0.001\n",
    "# P(E = T) = 0.002\n",
    "# P(A = T|B = T, E = T) = 0.95\n",
    "# P(J = T|A = T) = 0.9\n",
    "# P(M = F|A = T) = 0.3\n",
    "\n",
    "print(f\"Prawdopodobieństwo zdarzenia: {0.001 * 0.002 * 0.95 * 0.9 * 0.3}\")"
   ]
  },
  {
   "cell_type": "markdown",
   "id": "9f774a8b-a0f5-420e-837f-ed867066b5ce",
   "metadata": {},
   "source": [
    "## Zadanie 2"
   ]
  },
  {
   "cell_type": "markdown",
   "id": "005f90f2-362d-4502-8b56-4c77d6f96c97",
   "metadata": {},
   "source": [
    "Do opisu rozkładu 5 zmiennych binarnych potrzeba 2^5 parametrów.\n",
    "\n",
    "Sieć w ćwiczeniu ma 20 parametrów, chociaż parametry występują parami, komplementarnie. Ostatecznie redukuje to ilość potrzebnych parametrów do 10."
   ]
  },
  {
   "cell_type": "markdown",
   "id": "13e83ed2-6f5d-4752-8ef0-1754b110258d",
   "metadata": {},
   "source": [
    "## Zadanie 3"
   ]
  },
  {
   "cell_type": "markdown",
   "id": "ef8a04db-ebb6-4576-9942-9bf06cc0e486",
   "metadata": {},
   "source": [
    "### Liczba parametrów:\n",
    "- węzłom o stopniu wchodzącym równym 0 przypisujemy 2 parametry (1 przy zastosowaniu zasady uzupełniania prawdopobieństw do 1)\n",
    "- węzłom o stopniu wchodzącym równym 1 przypisujemy 4 parametrów (2 przy redukcji, pojedynczy warunek)\n",
    "- węzłom o stopniu wchodzącym równym 2 przypisujemy 8 parametrów (4 przy redukcji, warunek podwójny)\n",
    "\n",
    "Topologia z zadania wymaga zatem 42 parametrów (21 przy zastosowaniu zasady uzupełnienia prawdopodobieństw do 1)"
   ]
  },
  {
   "cell_type": "markdown",
   "id": "73ad5011-5b07-427e-9466-770b4551eb88",
   "metadata": {},
   "source": [
    "## Zadanie 4"
   ]
  },
  {
   "cell_type": "markdown",
   "id": "0d973087-e9d3-44c4-a845-a69e3e87db3a",
   "metadata": {},
   "source": [
    "### Banany:\n",
    "- duże & smaczne: 5\n",
    "- duże & nie smaczne: 1\n",
    "- małe & smaczne: 0      <- tu brakuje zliczenia\n",
    "- małe & nie smaczne: 1\n",
    "\n",
    "### Banany po dodaniu 1 zliczenia:\n",
    "- duże & smaczne: 6\n",
    "- duże & nie smaczne: 2\n",
    "- małe & smaczne: 1\n",
    "- małe & nie smaczne: 2\n",
    "\n",
    "### I teraz:\n",
    "P(smaczny | jest bananem, jest duży) = 6/8 = 0.75\\\n",
    "P(nie smaczny | jest bananem, jest mały) = 2/8 = 0.25"
   ]
  },
  {
   "cell_type": "markdown",
   "id": "83195d28-0ecd-4161-803a-17140b5876b4",
   "metadata": {},
   "source": [
    "## Zadanie 5"
   ]
  },
  {
   "cell_type": "code",
   "execution_count": 44,
   "id": "1c73142b-45fd-4ad4-84cd-d9dd69e3d481",
   "metadata": {},
   "outputs": [],
   "source": [
    "import random\n",
    "import pandas as pd\n",
    "from pgmpy.estimators import BayesianEstimator\n",
    "from pgmpy.models import BayesianNetwork\n",
    "from pgmpy.estimators import BDeuScore, K2Score, BicScore\n",
    "\n",
    "A = [random.randint(-2, 2) for _ in range(10000)]\n",
    "B = [random.randint(-2, 2) for _ in range(10000)]\n",
    "C = [2 * a - 3 * b for a, b, in zip(A, B)]\n",
    "\n",
    "data = pd.DataFrame({\"A\": A, \"B\": B, \"C\": C})"
   ]
  },
  {
   "cell_type": "code",
   "execution_count": 48,
   "id": "fd851d0c-def5-4df6-a52e-c8665a3f4368",
   "metadata": {},
   "outputs": [
    {
     "name": "stdout",
     "output_type": "stream",
     "text": [
      "-32347.439440835235\n",
      "-34014.02909676781\n",
      "-34295.52006793571\n"
     ]
    }
   ],
   "source": [
    "model_a = BayesianNetwork([(\"A\", \"C\"), (\"B\", \"C\")])\n",
    "model_a.fit(data, estimator=BayesianEstimator, prior_type=\"BDeu\")\n",
    "\n",
    "bdeu = BDeuScore(data)\n",
    "k2 = K2Score(data)\n",
    "bic = BicScore(data)\n",
    "\n",
    "print(bdeu.score(model_a))\n",
    "print(k2.score(model_a))\n",
    "print(bic.score(model_a))"
   ]
  },
  {
   "cell_type": "code",
   "execution_count": 49,
   "id": "d7baddb7-c50a-477b-b2c5-c9eb3efdde96",
   "metadata": {},
   "outputs": [
    {
     "name": "stdout",
     "output_type": "stream",
     "text": [
      "-48509.78127670144\n",
      "-48775.24408967901\n",
      "-48794.500728793406\n"
     ]
    }
   ],
   "source": [
    "model_b = BayesianNetwork([(\"A\", \"B\"), (\"B\", \"C\")])\n",
    "model_b.fit(data, estimator=BayesianEstimator, prior_type=\"BDeu\")\n",
    "\n",
    "bdeu = BDeuScore(data)\n",
    "k2 = K2Score(data)\n",
    "bic = BicScore(data)\n",
    "\n",
    "print(bdeu.score(model_b))\n",
    "print(k2.score(model_b))\n",
    "print(bic.score(model_b))"
   ]
  },
  {
   "cell_type": "markdown",
   "id": "014102bc-021a-4d25-9c05-61a70dc13f92",
   "metadata": {},
   "source": [
    "Wygląda na to, że topologia A->C, B->C jest lepsza (wartości wyznaczonych współczynników są większe dla pierwszej topologii)."
   ]
  },
  {
   "cell_type": "markdown",
   "id": "737c4ced-2f3c-4c0f-bb90-64ed87b2e1af",
   "metadata": {},
   "source": [
    "## Zadanie 6"
   ]
  },
  {
   "cell_type": "code",
   "execution_count": 17,
   "id": "582d7ddd-332a-44c1-8b09-88f731fa167b",
   "metadata": {},
   "outputs": [
    {
     "name": "stdout",
     "output_type": "stream",
     "text": [
      "Dla 3 cech liczba topologii jest równa: 25\n",
      "Dla 10 cech liczba topologii jest równa: 4175098976430598143\n"
     ]
    }
   ],
   "source": [
    "from math import factorial\n",
    "\n",
    "newton_sym = lambda n, k: int(factorial(n) / (factorial(k) * factorial(n - k)))\n",
    "\n",
    "def topologies(n):\n",
    "    if n == 0:\n",
    "        return 1\n",
    "    else:\n",
    "        sum_value = 0\n",
    "        \n",
    "        for k in range(1, n + 1):\n",
    "            sum_value += (-1) ** (k + 1) * newton_sym(n, k) * 2 ** (k * (n - k)) * topologies(n - k)\n",
    "            \n",
    "        return sum_value\n",
    "\n",
    "print(f\"Dla 3 cech liczba topologii jest równa: {topologies(3)}\")\n",
    "print(f\"Dla 10 cech liczba topologii jest równa: {topologies(10)}\")"
   ]
  }
 ],
 "metadata": {
  "kernelspec": {
   "display_name": "Python 3 (ipykernel)",
   "language": "python",
   "name": "python3"
  },
  "language_info": {
   "codemirror_mode": {
    "name": "ipython",
    "version": 3
   },
   "file_extension": ".py",
   "mimetype": "text/x-python",
   "name": "python",
   "nbconvert_exporter": "python",
   "pygments_lexer": "ipython3",
   "version": "3.10.9"
  }
 },
 "nbformat": 4,
 "nbformat_minor": 5
}
